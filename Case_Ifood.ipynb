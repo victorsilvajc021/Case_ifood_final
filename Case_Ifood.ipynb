{
  "nbformat": 4,
  "nbformat_minor": 0,
  "metadata": {
    "colab": {
      "name": "Case Ifood",
      "provenance": []
    },
    "kernelspec": {
      "name": "python3",
      "display_name": "Python 3"
    },
    "language_info": {
      "name": "python"
    }
  },
  "cells": [
    {
      "cell_type": "markdown",
      "metadata": {
        "id": "1lmVDRaq37bb"
      },
      "source": [
        "## Importando as bibliotecas"
      ]
    },
    {
      "cell_type": "code",
      "metadata": {
        "id": "2bZfuaUw7A4P"
      },
      "source": [
        "import pandas as pd #para ler, visualizar e printar infos do df\n",
        "import matplotlib.pyplot as plt #para construir e customizar gráficos\n",
        "import seaborn as sns #para visualizar uns gráficos\n",
        "import numpy as np #numpy porque é sempre bom importar numpy né \n",
        "import datetime as dt \n",
        "import json\n",
        "from pprint import pprint\n",
        "from wordcloud import WordCloud, STOPWORDS, ImageColorGenerator\n",
        "from PIL import Image"
      ],
      "execution_count": null,
      "outputs": []
    },
    {
      "cell_type": "code",
      "metadata": {
        "id": "6knayOAGk0ss"
      },
      "source": [
        "!pip install wordcloud -q"
      ],
      "execution_count": null,
      "outputs": []
    },
    {
      "cell_type": "markdown",
      "metadata": {
        "id": "XHXMBRQjylB-"
      },
      "source": [
        "# Ifood Entregador"
      ]
    },
    {
      "cell_type": "markdown",
      "metadata": {
        "id": "IJ5bWI-xoZ7u"
      },
      "source": [
        "### Função"
      ]
    },
    {
      "cell_type": "code",
      "metadata": {
        "id": "B3F8D3OSSgwB"
      },
      "source": [
        "# Essa função pega as variaveis que você precisar do dataFrame, muda seu nome e muda o seu tipo.\n",
        "def pre_processamento_ifood_entregador(dados, rename_dict, types_dict):\n",
        "  dados = dados[rename_dict.keys()].copy()\n",
        "  dados.rename(mapper=rename_dict, axis=1, inplace=True)\n",
        "  for key,value in types_dict.items():\n",
        "    dados[key] = dados[key].astype(value)\n",
        "  return dados"
      ],
      "execution_count": null,
      "outputs": []
    },
    {
      "cell_type": "markdown",
      "metadata": {
        "id": "wHU-7a6slaWi"
      },
      "source": [
        "### Importando o arquivo csv"
      ]
    },
    {
      "cell_type": "code",
      "metadata": {
        "colab": {
          "base_uri": "https://localhost:8080/",
          "height": 486
        },
        "id": "TWfWZz12CtRW",
        "outputId": "c9f3000b-9fa9-419f-c78d-1d7da8526204"
      },
      "source": [
        "dados = pd.read_csv('pedidos.csv')\n",
        "dados.head()"
      ],
      "execution_count": null,
      "outputs": [
        {
          "output_type": "execute_result",
          "data": {
            "text/html": [
              "<div>\n",
              "<style scoped>\n",
              "    .dataframe tbody tr th:only-of-type {\n",
              "        vertical-align: middle;\n",
              "    }\n",
              "\n",
              "    .dataframe tbody tr th {\n",
              "        vertical-align: top;\n",
              "    }\n",
              "\n",
              "    .dataframe thead th {\n",
              "        text-align: right;\n",
              "    }\n",
              "</style>\n",
              "<table border=\"1\" class=\"dataframe\">\n",
              "  <thead>\n",
              "    <tr style=\"text-align: right;\">\n",
              "      <th></th>\n",
              "      <th>driver_id</th>\n",
              "      <th>numero_pedido</th>\n",
              "      <th>modo_pagamento</th>\n",
              "      <th>modal</th>\n",
              "      <th>regiao</th>\n",
              "      <th>data_pedido</th>\n",
              "      <th>id_entregador</th>\n",
              "      <th>endereco_origem</th>\n",
              "      <th>dt</th>\n",
              "    </tr>\n",
              "  </thead>\n",
              "  <tbody>\n",
              "    <tr>\n",
              "      <th>0</th>\n",
              "      <td>879587</td>\n",
              "      <td>3037174295</td>\n",
              "      <td>ONLINE</td>\n",
              "      <td>BICYCLE</td>\n",
              "      <td>NOVA IGUACU</td>\n",
              "      <td>2021-03-29 11:19:06.254</td>\n",
              "      <td>a3e47a58-336a-4b66-a330-c6830040ca18</td>\n",
              "      <td>Rodovia Presidente Dutra, 13006, Prata, NOVA I...</td>\n",
              "      <td>2021-03-29</td>\n",
              "    </tr>\n",
              "    <tr>\n",
              "      <th>1</th>\n",
              "      <td>879587</td>\n",
              "      <td>3037984185</td>\n",
              "      <td>ONLINE</td>\n",
              "      <td>BICYCLE</td>\n",
              "      <td>NOVA IGUACU</td>\n",
              "      <td>2021-03-29 16:34:24.276</td>\n",
              "      <td>a3e47a58-336a-4b66-a330-c6830040ca18</td>\n",
              "      <td>Rodovia Presidente Dutra, 13006, Prata, NOVA I...</td>\n",
              "      <td>2021-03-29</td>\n",
              "    </tr>\n",
              "    <tr>\n",
              "      <th>2</th>\n",
              "      <td>879587</td>\n",
              "      <td>3037055824</td>\n",
              "      <td>ONLINE</td>\n",
              "      <td>BICYCLE</td>\n",
              "      <td>NOVA IGUACU</td>\n",
              "      <td>2021-03-29 09:11:48.069</td>\n",
              "      <td>a3e47a58-336a-4b66-a330-c6830040ca18</td>\n",
              "      <td>Rodovia Presidente Dutra, 13006, Prata, NOVA I...</td>\n",
              "      <td>2021-03-29</td>\n",
              "    </tr>\n",
              "    <tr>\n",
              "      <th>3</th>\n",
              "      <td>879587</td>\n",
              "      <td>1935848983</td>\n",
              "      <td>ONLINE</td>\n",
              "      <td>BICYCLE</td>\n",
              "      <td>NOVA IGUACU</td>\n",
              "      <td>2020-06-12 19:20:59.119</td>\n",
              "      <td>a3e47a58-336a-4b66-a330-c6830040ca18</td>\n",
              "      <td>Rodovia Presidente Dutra, 13006, Prata, NOVA I...</td>\n",
              "      <td>2020-06-12</td>\n",
              "    </tr>\n",
              "    <tr>\n",
              "      <th>4</th>\n",
              "      <td>879587</td>\n",
              "      <td>2569908938</td>\n",
              "      <td>ONLINE</td>\n",
              "      <td>BICYCLE</td>\n",
              "      <td>NOVA IGUACU</td>\n",
              "      <td>2020-12-01 15:06:43.039</td>\n",
              "      <td>a3e47a58-336a-4b66-a330-c6830040ca18</td>\n",
              "      <td>Rodovia Presidente Dutra, 13006, Prata, NOVA I...</td>\n",
              "      <td>2020-12-01</td>\n",
              "    </tr>\n",
              "  </tbody>\n",
              "</table>\n",
              "</div>"
            ],
            "text/plain": [
              "   driver_id  ...          dt\n",
              "0     879587  ...  2021-03-29\n",
              "1     879587  ...  2021-03-29\n",
              "2     879587  ...  2021-03-29\n",
              "3     879587  ...  2020-06-12\n",
              "4     879587  ...  2020-12-01\n",
              "\n",
              "[5 rows x 9 columns]"
            ]
          },
          "metadata": {
            "tags": []
          },
          "execution_count": 48
        }
      ]
    },
    {
      "cell_type": "markdown",
      "metadata": {
        "id": "UWs31wAdyocp"
      },
      "source": [
        "### Excluir linhas duplicadas"
      ]
    },
    {
      "cell_type": "code",
      "metadata": {
        "id": "Q7wDfaJ6yfgV"
      },
      "source": [
        "dados.drop_duplicates(keep='first', inplace=True)"
      ],
      "execution_count": null,
      "outputs": []
    },
    {
      "cell_type": "markdown",
      "metadata": {
        "id": "QNp4SOSjpipG"
      },
      "source": [
        "### Variaveis, chamando a função.\n"
      ]
    },
    {
      "cell_type": "code",
      "metadata": {
        "colab": {
          "base_uri": "https://localhost:8080/"
        },
        "id": "W7iGftv6TmGO",
        "outputId": "eed20008-7d15-4403-a4d9-dbfa9ba5bec8"
      },
      "source": [
        "\n",
        "rename = { \n",
        "    'modal': 'modal',\n",
        "    'regiao': 'regiao',\t\t\n",
        "    'endereco_origem': 'endereco_retirada',\n",
        "    'data_pedido': 'data_hora'\n",
        "}\n",
        "\n",
        "types = {\n",
        "    'data_hora':'datetime64'\n",
        "}\n",
        "\n",
        "dados_pre_processamento = pre_processamento_ifood_entregador(dados, rename, types)\n",
        "dados = dados_pre_processamento\n",
        "dados.info()"
      ],
      "execution_count": null,
      "outputs": [
        {
          "output_type": "stream",
          "text": [
            "<class 'pandas.core.frame.DataFrame'>\n",
            "Int64Index: 332 entries, 0 to 331\n",
            "Data columns (total 4 columns):\n",
            " #   Column             Non-Null Count  Dtype         \n",
            "---  ------             --------------  -----         \n",
            " 0   modal              332 non-null    object        \n",
            " 1   regiao             332 non-null    object        \n",
            " 2   endereco_retirada  332 non-null    object        \n",
            " 3   data_hora          332 non-null    datetime64[ns]\n",
            "dtypes: datetime64[ns](1), object(3)\n",
            "memory usage: 13.0+ KB\n"
          ],
          "name": "stdout"
        }
      ]
    },
    {
      "cell_type": "markdown",
      "metadata": {
        "id": "VsyLsB7EuyEn"
      },
      "source": [
        "### Organizando os valores pela coluna 'data_hora"
      ]
    },
    {
      "cell_type": "code",
      "metadata": {
        "colab": {
          "base_uri": "https://localhost:8080/",
          "height": 206
        },
        "id": "nIvAexo73Mgf",
        "outputId": "881d8183-2e69-49c3-c111-9ece0e0e0804"
      },
      "source": [
        "dados.sort_values(['data_hora'], ascending=True, inplace=True, ignore_index=True)\n",
        "dados.head()"
      ],
      "execution_count": null,
      "outputs": [
        {
          "output_type": "execute_result",
          "data": {
            "text/html": [
              "<div>\n",
              "<style scoped>\n",
              "    .dataframe tbody tr th:only-of-type {\n",
              "        vertical-align: middle;\n",
              "    }\n",
              "\n",
              "    .dataframe tbody tr th {\n",
              "        vertical-align: top;\n",
              "    }\n",
              "\n",
              "    .dataframe thead th {\n",
              "        text-align: right;\n",
              "    }\n",
              "</style>\n",
              "<table border=\"1\" class=\"dataframe\">\n",
              "  <thead>\n",
              "    <tr style=\"text-align: right;\">\n",
              "      <th></th>\n",
              "      <th>modal</th>\n",
              "      <th>regiao</th>\n",
              "      <th>endereco_retirada</th>\n",
              "      <th>data_hora</th>\n",
              "    </tr>\n",
              "  </thead>\n",
              "  <tbody>\n",
              "    <tr>\n",
              "      <th>0</th>\n",
              "      <td>BICYCLE</td>\n",
              "      <td>NOVA IGUACU</td>\n",
              "      <td>Rodovia Presidente Dutra, 13006, Prata, NOVA I...</td>\n",
              "      <td>2020-05-16 13:34:38.779</td>\n",
              "    </tr>\n",
              "    <tr>\n",
              "      <th>1</th>\n",
              "      <td>BICYCLE</td>\n",
              "      <td>NOVA IGUACU</td>\n",
              "      <td>Rodovia Presidente Dutra, 13006, Prata, NOVA I...</td>\n",
              "      <td>2020-05-17 12:00:32.663</td>\n",
              "    </tr>\n",
              "    <tr>\n",
              "      <th>2</th>\n",
              "      <td>BICYCLE</td>\n",
              "      <td>NOVA IGUACU</td>\n",
              "      <td>Rodovia Presidente Dutra, 13006, Prata, NOVA I...</td>\n",
              "      <td>2020-05-17 12:11:20.621</td>\n",
              "    </tr>\n",
              "    <tr>\n",
              "      <th>3</th>\n",
              "      <td>BICYCLE</td>\n",
              "      <td>NOVA IGUACU</td>\n",
              "      <td>Rodovia Presidente Dutra, 13006, Prata, NOVA I...</td>\n",
              "      <td>2020-05-17 13:15:51.350</td>\n",
              "    </tr>\n",
              "    <tr>\n",
              "      <th>4</th>\n",
              "      <td>BICYCLE</td>\n",
              "      <td>NOVA IGUACU</td>\n",
              "      <td>Rodovia Presidente Dutra, 13006, Prata, NOVA I...</td>\n",
              "      <td>2020-05-17 14:12:56.318</td>\n",
              "    </tr>\n",
              "  </tbody>\n",
              "</table>\n",
              "</div>"
            ],
            "text/plain": [
              "     modal  ...               data_hora\n",
              "0  BICYCLE  ... 2020-05-16 13:34:38.779\n",
              "1  BICYCLE  ... 2020-05-17 12:00:32.663\n",
              "2  BICYCLE  ... 2020-05-17 12:11:20.621\n",
              "3  BICYCLE  ... 2020-05-17 13:15:51.350\n",
              "4  BICYCLE  ... 2020-05-17 14:12:56.318\n",
              "\n",
              "[5 rows x 4 columns]"
            ]
          },
          "metadata": {
            "tags": []
          },
          "execution_count": 51
        }
      ]
    },
    {
      "cell_type": "code",
      "metadata": {
        "colab": {
          "base_uri": "https://localhost:8080/"
        },
        "id": "k22EhMGtSzF4",
        "outputId": "b5423b5a-8ca2-40cb-c802-26dbadd404e7"
      },
      "source": [
        "dados['data_hora'].min(), dados['data_hora'].max()"
      ],
      "execution_count": null,
      "outputs": [
        {
          "output_type": "execute_result",
          "data": {
            "text/plain": [
              "(Timestamp('2020-05-16 13:34:38.779000'),\n",
              " Timestamp('2021-07-06 17:10:28.091000'))"
            ]
          },
          "metadata": {
            "tags": []
          },
          "execution_count": 52
        }
      ]
    },
    {
      "cell_type": "markdown",
      "metadata": {
        "id": "iGmj33wvoFog"
      },
      "source": [
        "### Exportando os dados"
      ]
    },
    {
      "cell_type": "code",
      "metadata": {
        "id": "u9DdftmGHvQr"
      },
      "source": [
        "dados.to_csv('ifood_entregador.csv', index=False)"
      ],
      "execution_count": null,
      "outputs": []
    },
    {
      "cell_type": "markdown",
      "metadata": {
        "id": "4wj-VNEvKnhK"
      },
      "source": [
        "# Spotify"
      ]
    },
    {
      "cell_type": "markdown",
      "metadata": {
        "id": "OprbhCYXwWWq"
      },
      "source": [
        "### Função"
      ]
    },
    {
      "cell_type": "code",
      "metadata": {
        "id": "ZhIx9T6ZF7PF"
      },
      "source": [
        "# Essa função pega as variaveis que você precisar do dataFrame, muda seu nome e muda o seu tipo.\n",
        "def pre_processamento_spotify(dados, rename_dict, types_dict):\n",
        "  dados = dados[rename_dict.keys()].copy()\n",
        "  dados.rename(mapper=rename_dict, axis=1, inplace=True)\n",
        "  for key,value in types_dict.items():\n",
        "    dados[key] = dados[key].astype(value)\n",
        "  return dados"
      ],
      "execution_count": null,
      "outputs": []
    },
    {
      "cell_type": "markdown",
      "metadata": {
        "id": "mXTwm8PUwgnC"
      },
      "source": [
        "### Impotando arquivo csv"
      ]
    },
    {
      "cell_type": "code",
      "metadata": {
        "colab": {
          "base_uri": "https://localhost:8080/",
          "height": 206
        },
        "id": "wICjIUDiGg7I",
        "outputId": "8b27d5ed-3155-4282-89a3-dc450ba099c3"
      },
      "source": [
        "df = pd.read_json('StreamingHistory0.json')\n",
        "df.head()"
      ],
      "execution_count": null,
      "outputs": [
        {
          "output_type": "execute_result",
          "data": {
            "text/html": [
              "<div>\n",
              "<style scoped>\n",
              "    .dataframe tbody tr th:only-of-type {\n",
              "        vertical-align: middle;\n",
              "    }\n",
              "\n",
              "    .dataframe tbody tr th {\n",
              "        vertical-align: top;\n",
              "    }\n",
              "\n",
              "    .dataframe thead th {\n",
              "        text-align: right;\n",
              "    }\n",
              "</style>\n",
              "<table border=\"1\" class=\"dataframe\">\n",
              "  <thead>\n",
              "    <tr style=\"text-align: right;\">\n",
              "      <th></th>\n",
              "      <th>endTime</th>\n",
              "      <th>artistName</th>\n",
              "      <th>trackName</th>\n",
              "      <th>msPlayed</th>\n",
              "    </tr>\n",
              "  </thead>\n",
              "  <tbody>\n",
              "    <tr>\n",
              "      <th>0</th>\n",
              "      <td>2021-02-07 16:29</td>\n",
              "      <td>Pineapple StormTv</td>\n",
              "      <td>Poetas no Topo 3.3, Pt. 1</td>\n",
              "      <td>1534</td>\n",
              "    </tr>\n",
              "    <tr>\n",
              "      <th>1</th>\n",
              "      <td>2021-02-07 16:29</td>\n",
              "      <td>MV Bill</td>\n",
              "      <td>Estilo Vagabundo</td>\n",
              "      <td>5641</td>\n",
              "    </tr>\n",
              "    <tr>\n",
              "      <th>2</th>\n",
              "      <td>2021-02-07 16:29</td>\n",
              "      <td>ADL</td>\n",
              "      <td>Favela Vive 2</td>\n",
              "      <td>14610</td>\n",
              "    </tr>\n",
              "    <tr>\n",
              "      <th>3</th>\n",
              "      <td>2021-02-07 16:33</td>\n",
              "      <td>L7NNON</td>\n",
              "      <td>Ninguém (feat. MV BILL)</td>\n",
              "      <td>202083</td>\n",
              "    </tr>\n",
              "    <tr>\n",
              "      <th>4</th>\n",
              "      <td>2021-02-07 16:36</td>\n",
              "      <td>Pineapple StormTv</td>\n",
              "      <td>Poetas no Topo 3.3, Pt. 2</td>\n",
              "      <td>179182</td>\n",
              "    </tr>\n",
              "  </tbody>\n",
              "</table>\n",
              "</div>"
            ],
            "text/plain": [
              "            endTime         artistName                  trackName  msPlayed\n",
              "0  2021-02-07 16:29  Pineapple StormTv  Poetas no Topo 3.3, Pt. 1      1534\n",
              "1  2021-02-07 16:29            MV Bill           Estilo Vagabundo      5641\n",
              "2  2021-02-07 16:29                ADL              Favela Vive 2     14610\n",
              "3  2021-02-07 16:33             L7NNON    Ninguém (feat. MV BILL)    202083\n",
              "4  2021-02-07 16:36  Pineapple StormTv  Poetas no Topo 3.3, Pt. 2    179182"
            ]
          },
          "metadata": {
            "tags": []
          },
          "execution_count": 5
        }
      ]
    },
    {
      "cell_type": "markdown",
      "metadata": {
        "id": "rx13mw9vwo6J"
      },
      "source": [
        "### Dicionarios, chamando função."
      ]
    },
    {
      "cell_type": "code",
      "metadata": {
        "colab": {
          "base_uri": "https://localhost:8080/"
        },
        "id": "oczq8R5fCZwD",
        "outputId": "309e7361-af33-4096-89d7-916e2eceaccc"
      },
      "source": [
        "\n",
        "rename_spotify = { \n",
        "    'artistName':'artista',\n",
        "    'trackName': 'musica',\n",
        "    'msPlayed':'tempo',\n",
        "    'endTime':'data'\n",
        "}\n",
        "\n",
        "types_spotify = {\n",
        "    'data':'datetime64'\n",
        "}\n",
        "\n",
        "\n",
        "dados_spotify = pre_processamento_spotify(df, rename_spotify, types_spotify)\n",
        "df = dados_spotify\n",
        "df.info()"
      ],
      "execution_count": null,
      "outputs": [
        {
          "output_type": "stream",
          "text": [
            "<class 'pandas.core.frame.DataFrame'>\n",
            "RangeIndex: 1802 entries, 0 to 1801\n",
            "Data columns (total 4 columns):\n",
            " #   Column   Non-Null Count  Dtype         \n",
            "---  ------   --------------  -----         \n",
            " 0   artista  1802 non-null   object        \n",
            " 1   musica   1802 non-null   object        \n",
            " 2   tempo    1802 non-null   int64         \n",
            " 3   data     1802 non-null   datetime64[ns]\n",
            "dtypes: datetime64[ns](1), int64(1), object(2)\n",
            "memory usage: 56.4+ KB\n"
          ],
          "name": "stdout"
        }
      ]
    },
    {
      "cell_type": "code",
      "metadata": {
        "colab": {
          "base_uri": "https://localhost:8080/"
        },
        "id": "eOpFNiFglOUX",
        "outputId": "a6ce6c75-9a02-4634-d436-cff674246a1f"
      },
      "source": [
        "df['data'].min(), df['data'].max()"
      ],
      "execution_count": null,
      "outputs": [
        {
          "output_type": "execute_result",
          "data": {
            "text/plain": [
              "(Timestamp('2021-02-07 16:29:00'), Timestamp('2021-07-23 15:04:00'))"
            ]
          },
          "metadata": {
            "tags": []
          },
          "execution_count": 7
        }
      ]
    },
    {
      "cell_type": "code",
      "metadata": {
        "id": "Gws3LKEJxrl6"
      },
      "source": [
        "df['tempo']"
      ],
      "execution_count": null,
      "outputs": []
    },
    {
      "cell_type": "code",
      "metadata": {
        "id": "pNdtTJLqDhmg"
      },
      "source": [
        "df.to_csv('victor_spotify2.csv', index=False)"
      ],
      "execution_count": null,
      "outputs": []
    },
    {
      "cell_type": "markdown",
      "metadata": {
        "id": "7NBSIVSNJh4s"
      },
      "source": [
        "# Youtube\n"
      ]
    },
    {
      "cell_type": "code",
      "metadata": {
        "id": "4TgTQO4JCKD4"
      },
      "source": [
        "#Função que pega uma lista a partir do json. Quando o json precisa de apenas uma chave.\n",
        "#Funciona para um json que tem uma lista de dicionários\n",
        "def pega_coluna(json, chave):\n",
        "        lista = []\n",
        "        for i in json:\n",
        "                lista.append(i[chave])\n",
        "        return lista"
      ],
      "execution_count": null,
      "outputs": []
    },
    {
      "cell_type": "code",
      "metadata": {
        "id": "fwkUFJqpL5dr"
      },
      "source": [
        "#Função que pega uma lista a partir do json. Quando o json precisa de 2 chaves\n",
        "#Funciona para um json que tem uma lista de dicionários\n",
        "#Funciona apenas para o histórico de visualizações. O que não é canal (propaganda) ele retorna como adsense\n",
        "def pega_coluna_2chave(json, chave1, chave2):\n",
        "    lista = []\n",
        "    for i in json:\n",
        "        if chave1 in i:\n",
        "            if len(i[chave1]) > 1: lista.pop()\n",
        "            for k in i[chave1]:\n",
        "                lista.append(k[chave2])\n",
        "        else:\n",
        "            lista.append('adsense')\n",
        "    return lista"
      ],
      "execution_count": null,
      "outputs": []
    },
    {
      "cell_type": "code",
      "metadata": {
        "id": "P9HKMNOs_nI2"
      },
      "source": [
        "#Função que pega uma lista a partir do json. Quando o json precisa de 2 chaves\n",
        "#Serve para arquivo json em que está estruturado com dicionários de dicionários e não lista de dicionários.\n",
        "def pega_coluna_2chave_dicionarios(json, chave1, chave2):\n",
        "    lista = []\n",
        "    for i in json:\n",
        "        for chave, valor in i[chave1].items():\n",
        "            if chave == chave2:\n",
        "                lista.append(valor)\n",
        "    return lista"
      ],
      "execution_count": null,
      "outputs": []
    },
    {
      "cell_type": "code",
      "metadata": {
        "id": "Qf_GEzP33b6B"
      },
      "source": [
        "openfile=open(\"/content/drive/MyDrive/histórico-de-visualização_Celular.json\", encoding='UTF-8')\n",
        "df_youtube_views2 = json.load(openfile)"
      ],
      "execution_count": null,
      "outputs": []
    },
    {
      "cell_type": "code",
      "metadata": {
        "id": "N4cOt7xn3dOI"
      },
      "source": [
        "openfile=open(\"/content/drive/MyDrive/histórico-de-visualização_Pc.json\", encoding='UTF-8')\n",
        "df_youtube_views3 = json.load(openfile)"
      ],
      "execution_count": null,
      "outputs": []
    },
    {
      "cell_type": "code",
      "metadata": {
        "id": "230pqmwi5KGJ",
        "colab": {
          "base_uri": "https://localhost:8080/",
          "height": 206
        },
        "outputId": "23df4169-a607-4975-d4f8-21502914691e"
      },
      "source": [
        "nome_video_cel = pega_coluna(df_youtube_views2, 'title')\n",
        "tempo_cel = pega_coluna(df_youtube_views2, 'time')\n",
        "canal_cel = pega_coluna_2chave(df_youtube_views2, 'subtitles','name')\n",
        "\n",
        "youtube_celular = pd.DataFrame(data = [canal_cel, nome_video_cel, tempo_cel]).T\n",
        "youtube_celular.columns=['canal', 'nome_video', 'data']\n",
        "youtube_celular.head()"
      ],
      "execution_count": null,
      "outputs": [
        {
          "output_type": "execute_result",
          "data": {
            "text/html": [
              "<div>\n",
              "<style scoped>\n",
              "    .dataframe tbody tr th:only-of-type {\n",
              "        vertical-align: middle;\n",
              "    }\n",
              "\n",
              "    .dataframe tbody tr th {\n",
              "        vertical-align: top;\n",
              "    }\n",
              "\n",
              "    .dataframe thead th {\n",
              "        text-align: right;\n",
              "    }\n",
              "</style>\n",
              "<table border=\"1\" class=\"dataframe\">\n",
              "  <thead>\n",
              "    <tr style=\"text-align: right;\">\n",
              "      <th></th>\n",
              "      <th>canal</th>\n",
              "      <th>nome_video</th>\n",
              "      <th>data</th>\n",
              "    </tr>\n",
              "  </thead>\n",
              "  <tbody>\n",
              "    <tr>\n",
              "      <th>0</th>\n",
              "      <td>IDEIAS INCRÍVEIS Brincadeiras</td>\n",
              "      <td>Watched 8 IDEIAS IMPRESSIONANTES DE COMO BRINC...</td>\n",
              "      <td>2021-07-18T22:37:01.019Z</td>\n",
              "    </tr>\n",
              "    <tr>\n",
              "      <th>1</th>\n",
              "      <td>adsense</td>\n",
              "      <td>Watched PRA VALER E MR.DAN - BIPOLAR ( DVD 15 ...</td>\n",
              "      <td>2021-07-17T01:07:04.129Z</td>\n",
              "    </tr>\n",
              "    <tr>\n",
              "      <th>2</th>\n",
              "      <td>Instituto Montanari</td>\n",
              "      <td>Watched 4 PARCELA AUXÍLIO EMERGENCIAL ANTECIPA...</td>\n",
              "      <td>2021-07-13T16:22:41.171Z</td>\n",
              "    </tr>\n",
              "    <tr>\n",
              "      <th>3</th>\n",
              "      <td>Instituto Montanari</td>\n",
              "      <td>Watched 4 PARCELA CALENDÁRIO AUXÍLIO EMERGENCI...</td>\n",
              "      <td>2021-07-13T16:22:37.999Z</td>\n",
              "    </tr>\n",
              "    <tr>\n",
              "      <th>4</th>\n",
              "      <td>Cortes PodMestre [OFICIAL]</td>\n",
              "      <td>Watched O JEITO CERTO DE CHUP4R UMA BCTA l MIA...</td>\n",
              "      <td>2021-07-13T16:19:13.740Z</td>\n",
              "    </tr>\n",
              "  </tbody>\n",
              "</table>\n",
              "</div>"
            ],
            "text/plain": [
              "                           canal  ...                      data\n",
              "0  IDEIAS INCRÍVEIS Brincadeiras  ...  2021-07-18T22:37:01.019Z\n",
              "1                        adsense  ...  2021-07-17T01:07:04.129Z\n",
              "2            Instituto Montanari  ...  2021-07-13T16:22:41.171Z\n",
              "3            Instituto Montanari  ...  2021-07-13T16:22:37.999Z\n",
              "4     Cortes PodMestre [OFICIAL]  ...  2021-07-13T16:19:13.740Z\n",
              "\n",
              "[5 rows x 3 columns]"
            ]
          },
          "metadata": {
            "tags": []
          },
          "execution_count": 85
        }
      ]
    },
    {
      "cell_type": "code",
      "metadata": {
        "id": "GjmBHx-j5sIk",
        "colab": {
          "base_uri": "https://localhost:8080/",
          "height": 206
        },
        "outputId": "15df1cd2-8290-484c-dcae-b7a50d4ec6ca"
      },
      "source": [
        "nome_video_pc = pega_coluna(df_youtube_views3, 'title')\n",
        "tempo_pc = pega_coluna(df_youtube_views3, 'time')\n",
        "canal_pc = pega_coluna_2chave(df_youtube_views3, 'subtitles','name')\n",
        "\n",
        "youtube_pc = pd.DataFrame(data = [canal_pc, nome_video_pc, tempo_pc]).T\n",
        "youtube_pc.columns=['canal', 'nome_video', 'data']\n",
        "youtube_pc.head()"
      ],
      "execution_count": null,
      "outputs": [
        {
          "output_type": "execute_result",
          "data": {
            "text/html": [
              "<div>\n",
              "<style scoped>\n",
              "    .dataframe tbody tr th:only-of-type {\n",
              "        vertical-align: middle;\n",
              "    }\n",
              "\n",
              "    .dataframe tbody tr th {\n",
              "        vertical-align: top;\n",
              "    }\n",
              "\n",
              "    .dataframe thead th {\n",
              "        text-align: right;\n",
              "    }\n",
              "</style>\n",
              "<table border=\"1\" class=\"dataframe\">\n",
              "  <thead>\n",
              "    <tr style=\"text-align: right;\">\n",
              "      <th></th>\n",
              "      <th>canal</th>\n",
              "      <th>nome_video</th>\n",
              "      <th>data</th>\n",
              "    </tr>\n",
              "  </thead>\n",
              "  <tbody>\n",
              "    <tr>\n",
              "      <th>0</th>\n",
              "      <td>Descomplicando Bancos</td>\n",
              "      <td>Watched Mercado Crédito: Como Funciona? Vale a...</td>\n",
              "      <td>2021-07-19T20:05:33.358Z</td>\n",
              "    </tr>\n",
              "    <tr>\n",
              "      <th>1</th>\n",
              "      <td>Um Eterno Aluno Aprendiz</td>\n",
              "      <td>Watched Sacando o Limite do Mercado Crédito ou...</td>\n",
              "      <td>2021-07-19T19:41:50.214Z</td>\n",
              "    </tr>\n",
              "    <tr>\n",
              "      <th>2</th>\n",
              "      <td>Ideris</td>\n",
              "      <td>Watched Como Funciona o Mercado Crédito do Mer...</td>\n",
              "      <td>2021-07-19T19:33:13.188Z</td>\n",
              "    </tr>\n",
              "    <tr>\n",
              "      <th>3</th>\n",
              "      <td>Joe Importações e Tutoriais</td>\n",
              "      <td>Watched Mercado Crédito agora você pode sacar ...</td>\n",
              "      <td>2021-07-19T19:28:41.267Z</td>\n",
              "    </tr>\n",
              "    <tr>\n",
              "      <th>4</th>\n",
              "      <td>Programação Dinâmica</td>\n",
              "      <td>Watched Introdução a AutoML com PyCaret | Mach...</td>\n",
              "      <td>2021-07-19T16:28:07.089Z</td>\n",
              "    </tr>\n",
              "  </tbody>\n",
              "</table>\n",
              "</div>"
            ],
            "text/plain": [
              "                         canal  ...                      data\n",
              "0        Descomplicando Bancos  ...  2021-07-19T20:05:33.358Z\n",
              "1     Um Eterno Aluno Aprendiz  ...  2021-07-19T19:41:50.214Z\n",
              "2                       Ideris  ...  2021-07-19T19:33:13.188Z\n",
              "3  Joe Importações e Tutoriais  ...  2021-07-19T19:28:41.267Z\n",
              "4         Programação Dinâmica  ...  2021-07-19T16:28:07.089Z\n",
              "\n",
              "[5 rows x 3 columns]"
            ]
          },
          "metadata": {
            "tags": []
          },
          "execution_count": 87
        }
      ]
    },
    {
      "cell_type": "code",
      "metadata": {
        "colab": {
          "base_uri": "https://localhost:8080/",
          "height": 206
        },
        "id": "7TzBrz62snPh",
        "outputId": "e8cdda81-e374-4d72-bb77-bdf180ac46f4"
      },
      "source": [
        "victor_youtube = pd.concat([youtube_celular, youtube_pc])\n",
        "victor_youtube.head()"
      ],
      "execution_count": null,
      "outputs": [
        {
          "output_type": "execute_result",
          "data": {
            "text/html": [
              "<div>\n",
              "<style scoped>\n",
              "    .dataframe tbody tr th:only-of-type {\n",
              "        vertical-align: middle;\n",
              "    }\n",
              "\n",
              "    .dataframe tbody tr th {\n",
              "        vertical-align: top;\n",
              "    }\n",
              "\n",
              "    .dataframe thead th {\n",
              "        text-align: right;\n",
              "    }\n",
              "</style>\n",
              "<table border=\"1\" class=\"dataframe\">\n",
              "  <thead>\n",
              "    <tr style=\"text-align: right;\">\n",
              "      <th></th>\n",
              "      <th>canal</th>\n",
              "      <th>nome_video</th>\n",
              "      <th>data</th>\n",
              "    </tr>\n",
              "  </thead>\n",
              "  <tbody>\n",
              "    <tr>\n",
              "      <th>0</th>\n",
              "      <td>IDEIAS INCRÍVEIS Brincadeiras</td>\n",
              "      <td>Watched 8 IDEIAS IMPRESSIONANTES DE COMO BRINC...</td>\n",
              "      <td>2021-07-18T22:37:01.019Z</td>\n",
              "    </tr>\n",
              "    <tr>\n",
              "      <th>1</th>\n",
              "      <td>adsense</td>\n",
              "      <td>Watched PRA VALER E MR.DAN - BIPOLAR ( DVD 15 ...</td>\n",
              "      <td>2021-07-17T01:07:04.129Z</td>\n",
              "    </tr>\n",
              "    <tr>\n",
              "      <th>2</th>\n",
              "      <td>Instituto Montanari</td>\n",
              "      <td>Watched 4 PARCELA AUXÍLIO EMERGENCIAL ANTECIPA...</td>\n",
              "      <td>2021-07-13T16:22:41.171Z</td>\n",
              "    </tr>\n",
              "    <tr>\n",
              "      <th>3</th>\n",
              "      <td>Instituto Montanari</td>\n",
              "      <td>Watched 4 PARCELA CALENDÁRIO AUXÍLIO EMERGENCI...</td>\n",
              "      <td>2021-07-13T16:22:37.999Z</td>\n",
              "    </tr>\n",
              "    <tr>\n",
              "      <th>4</th>\n",
              "      <td>Cortes PodMestre [OFICIAL]</td>\n",
              "      <td>Watched O JEITO CERTO DE CHUP4R UMA BCTA l MIA...</td>\n",
              "      <td>2021-07-13T16:19:13.740Z</td>\n",
              "    </tr>\n",
              "  </tbody>\n",
              "</table>\n",
              "</div>"
            ],
            "text/plain": [
              "                           canal  ...                      data\n",
              "0  IDEIAS INCRÍVEIS Brincadeiras  ...  2021-07-18T22:37:01.019Z\n",
              "1                        adsense  ...  2021-07-17T01:07:04.129Z\n",
              "2            Instituto Montanari  ...  2021-07-13T16:22:41.171Z\n",
              "3            Instituto Montanari  ...  2021-07-13T16:22:37.999Z\n",
              "4     Cortes PodMestre [OFICIAL]  ...  2021-07-13T16:19:13.740Z\n",
              "\n",
              "[5 rows x 3 columns]"
            ]
          },
          "metadata": {
            "tags": []
          },
          "execution_count": 89
        }
      ]
    },
    {
      "cell_type": "code",
      "metadata": {
        "colab": {
          "base_uri": "https://localhost:8080/"
        },
        "id": "AbYmhZRNe1Ih",
        "outputId": "30341780-a284-49c7-afd5-58c9b03ffc45"
      },
      "source": [
        "victor_youtube.info()"
      ],
      "execution_count": null,
      "outputs": [
        {
          "output_type": "stream",
          "text": [
            "<class 'pandas.core.frame.DataFrame'>\n",
            "Int64Index: 2642 entries, 0 to 1685\n",
            "Data columns (total 3 columns):\n",
            " #   Column      Non-Null Count  Dtype \n",
            "---  ------      --------------  ----- \n",
            " 0   canal       2642 non-null   object\n",
            " 1   nome_video  2642 non-null   object\n",
            " 2   data        2642 non-null   object\n",
            "dtypes: object(3)\n",
            "memory usage: 82.6+ KB\n"
          ],
          "name": "stdout"
        }
      ]
    },
    {
      "cell_type": "code",
      "metadata": {
        "colab": {
          "base_uri": "https://localhost:8080/"
        },
        "id": "abZlK-21fOsl",
        "outputId": "ea30cffb-97ce-4d06-cda4-654254ccc858"
      },
      "source": [
        "victor_youtube['data'] = victor_youtube['data'].astype('datetime64')\n",
        "victor_youtube.info()"
      ],
      "execution_count": null,
      "outputs": [
        {
          "output_type": "stream",
          "text": [
            "<class 'pandas.core.frame.DataFrame'>\n",
            "Int64Index: 2642 entries, 0 to 1685\n",
            "Data columns (total 3 columns):\n",
            " #   Column      Non-Null Count  Dtype         \n",
            "---  ------      --------------  -----         \n",
            " 0   canal       2642 non-null   object        \n",
            " 1   nome_video  2642 non-null   object        \n",
            " 2   data        2642 non-null   datetime64[ns]\n",
            "dtypes: datetime64[ns](1), object(2)\n",
            "memory usage: 82.6+ KB\n"
          ],
          "name": "stdout"
        }
      ]
    },
    {
      "cell_type": "code",
      "metadata": {
        "id": "znFGjm0n8J_T",
        "colab": {
          "base_uri": "https://localhost:8080/",
          "height": 206
        },
        "outputId": "6113181d-beb5-4539-df9f-be133e5d61d6"
      },
      "source": [
        "# str.replace('Watched', '') retira a palavra 'Watched' das linhas da variavel 'nome_vídeo\n",
        "victor_youtube['nome_video'] = victor_youtube['nome_video'].str.replace('Watched')\n",
        "victor_youtube.head()"
      ],
      "execution_count": null,
      "outputs": [
        {
          "output_type": "execute_result",
          "data": {
            "text/html": [
              "<div>\n",
              "<style scoped>\n",
              "    .dataframe tbody tr th:only-of-type {\n",
              "        vertical-align: middle;\n",
              "    }\n",
              "\n",
              "    .dataframe tbody tr th {\n",
              "        vertical-align: top;\n",
              "    }\n",
              "\n",
              "    .dataframe thead th {\n",
              "        text-align: right;\n",
              "    }\n",
              "</style>\n",
              "<table border=\"1\" class=\"dataframe\">\n",
              "  <thead>\n",
              "    <tr style=\"text-align: right;\">\n",
              "      <th></th>\n",
              "      <th>canal</th>\n",
              "      <th>nome_video</th>\n",
              "      <th>data</th>\n",
              "    </tr>\n",
              "  </thead>\n",
              "  <tbody>\n",
              "    <tr>\n",
              "      <th>0</th>\n",
              "      <td>IDEIAS INCRÍVEIS Brincadeiras</td>\n",
              "      <td>8 IDEIAS IMPRESSIONANTES DE COMO BRINCAR E SE...</td>\n",
              "      <td>2021-07-18 22:37:01.019</td>\n",
              "    </tr>\n",
              "    <tr>\n",
              "      <th>1</th>\n",
              "      <td>adsense</td>\n",
              "      <td>PRA VALER E MR.DAN - BIPOLAR ( DVD 15 ANOS ) ...</td>\n",
              "      <td>2021-07-17 01:07:04.129</td>\n",
              "    </tr>\n",
              "    <tr>\n",
              "      <th>2</th>\n",
              "      <td>Instituto Montanari</td>\n",
              "      <td>4 PARCELA AUXÍLIO EMERGENCIAL ANTECIPADA? JOÃ...</td>\n",
              "      <td>2021-07-13 16:22:41.171</td>\n",
              "    </tr>\n",
              "    <tr>\n",
              "      <th>3</th>\n",
              "      <td>Instituto Montanari</td>\n",
              "      <td>4 PARCELA CALENDÁRIO AUXÍLIO EMERGENCIAL BOLS...</td>\n",
              "      <td>2021-07-13 16:22:37.999</td>\n",
              "    </tr>\n",
              "    <tr>\n",
              "      <th>4</th>\n",
              "      <td>Cortes PodMestre [OFICIAL]</td>\n",
              "      <td>O JEITO CERTO DE CHUP4R UMA BCTA l MIA LINZ</td>\n",
              "      <td>2021-07-13 16:19:13.740</td>\n",
              "    </tr>\n",
              "  </tbody>\n",
              "</table>\n",
              "</div>"
            ],
            "text/plain": [
              "                           canal  ...                    data\n",
              "0  IDEIAS INCRÍVEIS Brincadeiras  ... 2021-07-18 22:37:01.019\n",
              "1                        adsense  ... 2021-07-17 01:07:04.129\n",
              "2            Instituto Montanari  ... 2021-07-13 16:22:41.171\n",
              "3            Instituto Montanari  ... 2021-07-13 16:22:37.999\n",
              "4     Cortes PodMestre [OFICIAL]  ... 2021-07-13 16:19:13.740\n",
              "\n",
              "[5 rows x 3 columns]"
            ]
          },
          "metadata": {
            "tags": []
          },
          "execution_count": 92
        }
      ]
    },
    {
      "cell_type": "code",
      "metadata": {
        "id": "yBcUgIsz0iWJ"
      },
      "source": [
        "victor_youtube.to_csv('youtube_youtube_pessoal.csv', index=False)"
      ],
      "execution_count": null,
      "outputs": []
    },
    {
      "cell_type": "markdown",
      "metadata": {
        "id": "kHJPsR1ey42z"
      },
      "source": [
        "# Youtube TV"
      ]
    },
    {
      "cell_type": "code",
      "metadata": {
        "id": "oP5GSoRUy4Y9"
      },
      "source": [
        "openfile=open(\"/content/drive/MyDrive/histórico-de-visualização_Tv.json\", encoding='UTF-8')\n",
        "df_youtube_views1 = json.load(openfile)"
      ],
      "execution_count": null,
      "outputs": []
    },
    {
      "cell_type": "code",
      "metadata": {
        "colab": {
          "base_uri": "https://localhost:8080/",
          "height": 203
        },
        "id": "NN6mQZz0zIpL",
        "outputId": "4c90cd70-00a7-464e-e9c9-5f5277c3f3ba"
      },
      "source": [
        "nome_video = pega_coluna(df_youtube_views1, 'title')\n",
        "tempo = pega_coluna(df_youtube_views1, 'time')\n",
        "canal = pega_coluna_2chave(df_youtube_views1, 'subtitles','name')\n",
        "\n",
        "youtube_tv = pd.DataFrame(data = [canal, nome_video, tempo]).T\n",
        "youtube_tv.columns=['canal', 'nome_video', 'data']\n",
        "youtube_tv.head()"
      ],
      "execution_count": null,
      "outputs": [
        {
          "output_type": "execute_result",
          "data": {
            "text/html": [
              "<div>\n",
              "<style scoped>\n",
              "    .dataframe tbody tr th:only-of-type {\n",
              "        vertical-align: middle;\n",
              "    }\n",
              "\n",
              "    .dataframe tbody tr th {\n",
              "        vertical-align: top;\n",
              "    }\n",
              "\n",
              "    .dataframe thead th {\n",
              "        text-align: right;\n",
              "    }\n",
              "</style>\n",
              "<table border=\"1\" class=\"dataframe\">\n",
              "  <thead>\n",
              "    <tr style=\"text-align: right;\">\n",
              "      <th></th>\n",
              "      <th>canal</th>\n",
              "      <th>nome video</th>\n",
              "      <th>data</th>\n",
              "    </tr>\n",
              "  </thead>\n",
              "  <tbody>\n",
              "    <tr>\n",
              "      <th>0</th>\n",
              "      <td>Rafa &amp; Luiz</td>\n",
              "      <td>Watched COMPRAMOS UMA TV DE 86 POLEGADAS! - MU...</td>\n",
              "      <td>2021-07-22T12:51:55.511Z</td>\n",
              "    </tr>\n",
              "    <tr>\n",
              "      <th>1</th>\n",
              "      <td>Rafa &amp; Luiz</td>\n",
              "      <td>Watched FIZEMOS UMA ARMADILHA PARA PEGAR O FAC...</td>\n",
              "      <td>2021-07-22T12:34:56.149Z</td>\n",
              "    </tr>\n",
              "    <tr>\n",
              "      <th>2</th>\n",
              "      <td>Rafa &amp; Luiz</td>\n",
              "      <td>Watched O MISTÉRIO DA CASA AO LADO! - O FILME!...</td>\n",
              "      <td>2021-07-21T18:22:12.441Z</td>\n",
              "    </tr>\n",
              "    <tr>\n",
              "      <th>3</th>\n",
              "      <td>Rafa &amp; Luiz</td>\n",
              "      <td>Watched O FACE TIROU A MÁSCARA! - (TIVEMOS UMA...</td>\n",
              "      <td>2021-07-21T17:56:31.207Z</td>\n",
              "    </tr>\n",
              "    <tr>\n",
              "      <th>4</th>\n",
              "      <td>MALOUCOS</td>\n",
              "      <td>Watched A LENDA DA SLIME PERFEITA E SECRETA PA...</td>\n",
              "      <td>2021-07-21T14:01:50.612Z</td>\n",
              "    </tr>\n",
              "  </tbody>\n",
              "</table>\n",
              "</div>"
            ],
            "text/plain": [
              "         canal  ...                      data\n",
              "0  Rafa & Luiz  ...  2021-07-22T12:51:55.511Z\n",
              "1  Rafa & Luiz  ...  2021-07-22T12:34:56.149Z\n",
              "2  Rafa & Luiz  ...  2021-07-21T18:22:12.441Z\n",
              "3  Rafa & Luiz  ...  2021-07-21T17:56:31.207Z\n",
              "4     MALOUCOS  ...  2021-07-21T14:01:50.612Z\n",
              "\n",
              "[5 rows x 3 columns]"
            ]
          },
          "metadata": {
            "tags": []
          },
          "execution_count": 143
        }
      ]
    },
    {
      "cell_type": "code",
      "metadata": {
        "id": "967HhLRq8kkg",
        "colab": {
          "base_uri": "https://localhost:8080/",
          "height": 203
        },
        "outputId": "087bbe89-cd22-4bb8-cf4a-296aa24a1fe9"
      },
      "source": [
        "# str.replace('Watched', '') retira a palavra 'Watched' das linhas da variavel 'nome_vídeo\n",
        "youtube_tv['nome_video'] = youtube_tv['nome_video'].str.replace('Watched', '')\n",
        "youtube_tv.head()"
      ],
      "execution_count": null,
      "outputs": [
        {
          "output_type": "execute_result",
          "data": {
            "text/html": [
              "<div>\n",
              "<style scoped>\n",
              "    .dataframe tbody tr th:only-of-type {\n",
              "        vertical-align: middle;\n",
              "    }\n",
              "\n",
              "    .dataframe tbody tr th {\n",
              "        vertical-align: top;\n",
              "    }\n",
              "\n",
              "    .dataframe thead th {\n",
              "        text-align: right;\n",
              "    }\n",
              "</style>\n",
              "<table border=\"1\" class=\"dataframe\">\n",
              "  <thead>\n",
              "    <tr style=\"text-align: right;\">\n",
              "      <th></th>\n",
              "      <th>canal</th>\n",
              "      <th>nome video</th>\n",
              "      <th>data</th>\n",
              "    </tr>\n",
              "  </thead>\n",
              "  <tbody>\n",
              "    <tr>\n",
              "      <th>0</th>\n",
              "      <td>Rafa &amp; Luiz</td>\n",
              "      <td>COMPRAMOS UMA TV DE 86 POLEGADAS! - MUITO GIG...</td>\n",
              "      <td>2021-07-22T12:51:55.511Z</td>\n",
              "    </tr>\n",
              "    <tr>\n",
              "      <th>1</th>\n",
              "      <td>Rafa &amp; Luiz</td>\n",
              "      <td>FIZEMOS UMA ARMADILHA PARA PEGAR O FACE! - DE...</td>\n",
              "      <td>2021-07-22T12:34:56.149Z</td>\n",
              "    </tr>\n",
              "    <tr>\n",
              "      <th>2</th>\n",
              "      <td>Rafa &amp; Luiz</td>\n",
              "      <td>O MISTÉRIO DA CASA AO LADO! - O FILME! - (COM...</td>\n",
              "      <td>2021-07-21T18:22:12.441Z</td>\n",
              "    </tr>\n",
              "    <tr>\n",
              "      <th>3</th>\n",
              "      <td>Rafa &amp; Luiz</td>\n",
              "      <td>O FACE TIROU A MÁSCARA! - (TIVEMOS UMA SURPRESA)</td>\n",
              "      <td>2021-07-21T17:56:31.207Z</td>\n",
              "    </tr>\n",
              "    <tr>\n",
              "      <th>4</th>\n",
              "      <td>MALOUCOS</td>\n",
              "      <td>A LENDA DA SLIME PERFEITA E SECRETA PARTE 2 -...</td>\n",
              "      <td>2021-07-21T14:01:50.612Z</td>\n",
              "    </tr>\n",
              "  </tbody>\n",
              "</table>\n",
              "</div>"
            ],
            "text/plain": [
              "         canal  ...                      data\n",
              "0  Rafa & Luiz  ...  2021-07-22T12:51:55.511Z\n",
              "1  Rafa & Luiz  ...  2021-07-22T12:34:56.149Z\n",
              "2  Rafa & Luiz  ...  2021-07-21T18:22:12.441Z\n",
              "3  Rafa & Luiz  ...  2021-07-21T17:56:31.207Z\n",
              "4     MALOUCOS  ...  2021-07-21T14:01:50.612Z\n",
              "\n",
              "[5 rows x 3 columns]"
            ]
          },
          "metadata": {
            "tags": []
          },
          "execution_count": 144
        }
      ]
    },
    {
      "cell_type": "code",
      "metadata": {
        "id": "TtTGYw02HJZH"
      },
      "source": [
        "youtube_tv.to_csv('tv_youtube_vizualizacao.csv', index = False, header=True)"
      ],
      "execution_count": null,
      "outputs": []
    }
  ]
}